{
 "cells": [
  {
   "cell_type": "code",
   "execution_count": 1,
   "metadata": {},
   "outputs": [],
   "source": [
    "import os \n",
    "import pandas as pd \n",
    "import numpy as np \n",
    "from glob import glob\n",
    "# from scipy import signal, fft\n",
    "# from scipy.io import wavfile\n",
    "import librosa\n",
    "import matplotlib.pyplot as plt\n",
    "\n",
    "import scipy.signal\n",
    "from scipy.signal.windows import hann\n",
    "\n",
    "# import torch\n",
    "# import torchaudio\n",
    "# from torch.utils.data import Dataset\n",
    "\n",
    "import tensorflow as tf \n",
    "\n",
    "\n",
    "import matplotlib.pyplot as plt\n",
    "import librosa.display\n",
    "from PIL import Image\n",
    "import numpy as np"
   ]
  },
  {
   "cell_type": "code",
   "execution_count": 2,
   "metadata": {},
   "outputs": [
    {
     "data": {
      "text/html": [
       "<div>\n",
       "<style scoped>\n",
       "    .dataframe tbody tr th:only-of-type {\n",
       "        vertical-align: middle;\n",
       "    }\n",
       "\n",
       "    .dataframe tbody tr th {\n",
       "        vertical-align: top;\n",
       "    }\n",
       "\n",
       "    .dataframe thead th {\n",
       "        text-align: right;\n",
       "    }\n",
       "</style>\n",
       "<table border=\"1\" class=\"dataframe\">\n",
       "  <thead>\n",
       "    <tr style=\"text-align: right;\">\n",
       "      <th></th>\n",
       "      <th>filename</th>\n",
       "      <th>train/test</th>\n",
       "      <th>sounds_amount</th>\n",
       "    </tr>\n",
       "  </thead>\n",
       "  <tbody>\n",
       "    <tr>\n",
       "      <th>0</th>\n",
       "      <td>423_c.wav</td>\n",
       "      <td>train</td>\n",
       "      <td>24</td>\n",
       "    </tr>\n",
       "    <tr>\n",
       "      <th>1</th>\n",
       "      <td>113_c.wav</td>\n",
       "      <td>train</td>\n",
       "      <td>6</td>\n",
       "    </tr>\n",
       "    <tr>\n",
       "      <th>2</th>\n",
       "      <td>377_c.wav</td>\n",
       "      <td>train</td>\n",
       "      <td>5</td>\n",
       "    </tr>\n",
       "    <tr>\n",
       "      <th>3</th>\n",
       "      <td>25_g.wav</td>\n",
       "      <td>train</td>\n",
       "      <td>4</td>\n",
       "    </tr>\n",
       "    <tr>\n",
       "      <th>4</th>\n",
       "      <td>112_c.wav</td>\n",
       "      <td>train</td>\n",
       "      <td>9</td>\n",
       "    </tr>\n",
       "  </tbody>\n",
       "</table>\n",
       "</div>"
      ],
      "text/plain": [
       "    filename train/test  sounds_amount\n",
       "0  423_c.wav      train             24\n",
       "1  113_c.wav      train              6\n",
       "2  377_c.wav      train              5\n",
       "3   25_g.wav      train              4\n",
       "4  112_c.wav      train              9"
      ]
     },
     "execution_count": 2,
     "metadata": {},
     "output_type": "execute_result"
    }
   ],
   "source": [
    "all_files = pd.read_csv('/Users/sehwanyoo/Dropbox/Experiment/datasets/data/files.csv')\n",
    "all_files.head()"
   ]
  },
  {
   "cell_type": "code",
   "execution_count": 3,
   "metadata": {},
   "outputs": [
    {
     "data": {
      "text/plain": [
       "(1023, 262)"
      ]
     },
     "execution_count": 3,
     "metadata": {},
     "output_type": "execute_result"
    }
   ],
   "source": [
    "len(all_files[(all_files['sounds_amount'] > 0) & (all_files['train/test']  == 'train')]), len(all_files[(all_files['sounds_amount'] == 0) & (all_files['train/test']  == 'train')])"
   ]
  },
  {
   "cell_type": "code",
   "execution_count": 4,
   "metadata": {},
   "outputs": [
    {
     "data": {
      "text/plain": [
       "(260, 61)"
      ]
     },
     "execution_count": 4,
     "metadata": {},
     "output_type": "execute_result"
    }
   ],
   "source": [
    "len(all_files[(all_files['sounds_amount'] > 0) & (all_files['train/test']  == 'test')]), len(all_files[(all_files['sounds_amount'] == 0) & (all_files['train/test']  == 'test')])"
   ]
  },
  {
   "cell_type": "code",
   "execution_count": 5,
   "metadata": {},
   "outputs": [
    {
     "data": {
      "text/plain": [
       "(427, 427)"
      ]
     },
     "execution_count": 5,
     "metadata": {},
     "output_type": "execute_result"
    }
   ],
   "source": [
    "wav_files = glob('/Users/sehwanyoo/Dropbox/Experiment/datasets/data/*_c.wav')\n",
    "csv_files = glob('/Users/sehwanyoo/Dropbox/Experiment/datasets/data/*_c.csv')\n",
    "len(wav_files), len(csv_files)"
   ]
  },
  {
   "cell_type": "code",
   "execution_count": 6,
   "metadata": {},
   "outputs": [],
   "source": [
    "wav_train, wav_test = [], [] \n",
    "csv_train, csv_test = [], [] \n",
    "\n",
    "# for i in range(len(wav_files)):\n",
    "for key, val in all_files.iterrows():\n",
    "    if 'train' in val['train/test']:\n",
    "        wav_train.append(os.path.join('/Users/sehwanyoo/Dropbox/Experiment/datasets/data/', val['filename']))\n",
    "        csv_train.append(os.path.join('/Users/sehwanyoo/Dropbox/Experiment/datasets/data/', val['filename'].replace('wav', 'csv')))\n",
    "    else:\n",
    "        wav_test.append(os.path.join('/Users/sehwanyoo/Dropbox/Experiment/datasets/data/', val['filename']))\n",
    "        csv_test.append(os.path.join('/Users/sehwanyoo/Dropbox/Experiment/datasets/data/', val['filename'].replace('wav', 'csv')))"
   ]
  },
  {
   "cell_type": "code",
   "execution_count": 7,
   "metadata": {},
   "outputs": [
    {
     "data": {
      "text/plain": [
       "(1285, 321, 1285, 321)"
      ]
     },
     "execution_count": 7,
     "metadata": {},
     "output_type": "execute_result"
    }
   ],
   "source": [
    "len(wav_train), len(wav_test), len(csv_train), len(csv_test)"
   ]
  },
  {
   "cell_type": "code",
   "execution_count": 8,
   "metadata": {},
   "outputs": [
    {
     "data": {
      "text/plain": [
       "{'s': 2819, 'm': 16, 'nan': 2152, 'b': 90, 'bc': 94, 'o': 1, 'a': 32, 'd': 2}"
      ]
     },
     "execution_count": 8,
     "metadata": {},
     "output_type": "execute_result"
    }
   ],
   "source": [
    "total_category = {} \n",
    "for csv in csv_train:\n",
    "    df = pd.read_csv(csv)\n",
    "    \n",
    "    try:\n",
    "        unique_elements, counts = np.unique(df['category'].astype(str), return_counts=True)\n",
    "        # element_counts_dict = dict(zip(unique_elements, counts))\n",
    "        \n",
    "        if len(unique_elements) < 1:\n",
    "            continue\n",
    "        \n",
    "        for e, c in zip(unique_elements, counts):\n",
    "            if e in total_category:\n",
    "                total_category[e] += c\n",
    "            else:\n",
    "                total_category[e] = c\n",
    "    except Exception as e:\n",
    "        print(e)\n",
    "            \n",
    "    # break\n",
    "\n",
    "total_category\n",
    "        "
   ]
  },
  {
   "cell_type": "code",
   "execution_count": 9,
   "metadata": {},
   "outputs": [
    {
     "data": {
      "image/png": "[encoded data removed]",
      "text/plain": [
       "<Figure size 640x480 with 1 Axes>"
      ]
     },
     "metadata": {},
     "output_type": "display_data"
    }
   ],
   "source": [
    "categories = list(total_category.keys())\n",
    "counts = list(total_category.values())\n",
    "\n",
    "# 막대 그래프 생성\n",
    "plt.bar(categories, counts)\n",
    "\n",
    "for index, value in enumerate(counts):\n",
    "    plt.text(index, value, str(value), ha='center', va='bottom')\n",
    "\n",
    "\n",
    "plt.xlabel('Category')  # X축 레이블\n",
    "plt.ylabel('Counts')    # Y축 레이블\n",
    "plt.title('Category Counts')  # 그래프 제목\n",
    "plt.show()"
   ]
  },
  {
   "cell_type": "code",
   "execution_count": 10,
   "metadata": {},
   "outputs": [
    {
     "data": {
      "text/html": [
       "<div>\n",
       "<style scoped>\n",
       "    .dataframe tbody tr th:only-of-type {\n",
       "        vertical-align: middle;\n",
       "    }\n",
       "\n",
       "    .dataframe tbody tr th {\n",
       "        vertical-align: top;\n",
       "    }\n",
       "\n",
       "    .dataframe thead th {\n",
       "        text-align: right;\n",
       "    }\n",
       "</style>\n",
       "<table border=\"1\" class=\"dataframe\">\n",
       "  <thead>\n",
       "    <tr style=\"text-align: right;\">\n",
       "      <th></th>\n",
       "      <th>start</th>\n",
       "      <th>end</th>\n",
       "      <th>fmin</th>\n",
       "      <th>fmax</th>\n",
       "      <th>category</th>\n",
       "    </tr>\n",
       "  </thead>\n",
       "  <tbody>\n",
       "    <tr>\n",
       "      <th>0</th>\n",
       "      <td>0.014694</td>\n",
       "      <td>0.046621</td>\n",
       "      <td>165.242172</td>\n",
       "      <td>1903.133911</td>\n",
       "      <td>s</td>\n",
       "    </tr>\n",
       "    <tr>\n",
       "      <th>1</th>\n",
       "      <td>0.183039</td>\n",
       "      <td>0.213515</td>\n",
       "      <td>216.524216</td>\n",
       "      <td>1954.415894</td>\n",
       "      <td>s</td>\n",
       "    </tr>\n",
       "    <tr>\n",
       "      <th>2</th>\n",
       "      <td>0.339773</td>\n",
       "      <td>0.374603</td>\n",
       "      <td>216.524216</td>\n",
       "      <td>598.290649</td>\n",
       "      <td>s</td>\n",
       "    </tr>\n",
       "    <tr>\n",
       "      <th>3</th>\n",
       "      <td>0.583583</td>\n",
       "      <td>0.606803</td>\n",
       "      <td>119.658119</td>\n",
       "      <td>592.592590</td>\n",
       "      <td>s</td>\n",
       "    </tr>\n",
       "    <tr>\n",
       "      <th>4</th>\n",
       "      <td>0.879637</td>\n",
       "      <td>0.917370</td>\n",
       "      <td>153.846161</td>\n",
       "      <td>723.646729</td>\n",
       "      <td>s</td>\n",
       "    </tr>\n",
       "  </tbody>\n",
       "</table>\n",
       "</div>"
      ],
      "text/plain": [
       "      start       end        fmin         fmax category\n",
       "0  0.014694  0.046621  165.242172  1903.133911        s\n",
       "1  0.183039  0.213515  216.524216  1954.415894        s\n",
       "2  0.339773  0.374603  216.524216   598.290649        s\n",
       "3  0.583583  0.606803  119.658119   592.592590        s\n",
       "4  0.879637  0.917370  153.846161   723.646729        s"
      ]
     },
     "execution_count": 10,
     "metadata": {},
     "output_type": "execute_result"
    }
   ],
   "source": [
    "df = pd.read_csv(csv_train[0])\n",
    "df.head()"
   ]
  },
  {
   "cell_type": "code",
   "execution_count": 11,
   "metadata": {},
   "outputs": [],
   "source": [
    "def spectrogram(samples, sample_rate, stride_sec = 2.0, \n",
    "                          window_sec = 4.0, max_freq = 1500, eps = 1e-4):\n",
    "\n",
    "    stride_size = int(sample_rate * stride_sec)\n",
    "    window_size = int(sample_rate * window_sec)\n",
    "\n",
    "    # Extract strided windows\n",
    "    truncate_size = (len(samples) - window_size) % stride_size\n",
    "    samples = samples[:len(samples) - truncate_size]\n",
    "    nshape = (window_size, (len(samples) - window_size) // stride_size + 1)\n",
    "    nstrides = (samples.strides[0], samples.strides[0] * stride_size)\n",
    "    windows = np.lib.stride_tricks.as_strided(samples, \n",
    "                                          shape = nshape, strides = nstrides)\n",
    "    # print(windows.shape)\n",
    "    # assert np.all(windows[:, 1] == samples[stride_size:(stride_size + window_size)])\n",
    "\n",
    "    # Window weighting, squared Fast Fourier Transform (fft), scaling\n",
    "    weighting = np.hanning(window_size)[:, None]\n",
    "    \n",
    "    fft = np.fft.rfft(windows * weighting, axis=0)\n",
    "    fft = np.absolute(fft)\n",
    "    fft = fft**2\n",
    "    \n",
    "    scale = np.sum(weighting**2) * sample_rate\n",
    "    fft[1:-1, :] *= (2.0 / scale)\n",
    "    fft[(0, -1), :] /= scale\n",
    "    \n",
    "    # Prepare fft frequency list\n",
    "    freqs = float(sample_rate) / window_size * np.arange(fft.shape[0])\n",
    "    \n",
    "    # Compute spectrogram feature\n",
    "    ind = np.where(freqs <= max_freq)[0][-1]\n",
    "    specgram = np.log(fft[:ind, :] + eps).astype(np.float32)\n",
    "    return specgram"
   ]
  },
  {
   "cell_type": "code",
   "execution_count": 12,
   "metadata": {},
   "outputs": [],
   "source": [
    "\n",
    "def norm_img(input_imgs, n_min, n_max):\n",
    "    imgs = []\n",
    "    for i in range(input_imgs.shape[0]):\n",
    "        img = input_imgs[i]\n",
    "        x = (img - n_min) / (n_max - n_min)\n",
    "        img = x.clip(0, 1)\n",
    "        imgs.append(img)\n",
    "    \n",
    "    return np.array(imgs)"
   ]
  },
  {
   "cell_type": "code",
   "execution_count": 17,
   "metadata": {},
   "outputs": [
    {
     "data": {
      "text/plain": [
       "(array([-0.00405884, -0.00405884, -0.00402832, ..., -0.01525879,\n",
       "        -0.01525879, -0.01522827], dtype=float32),\n",
       " 44100)"
      ]
     },
     "execution_count": 17,
     "metadata": {},
     "output_type": "execute_result"
    }
   ],
   "source": [
    "y, sr = librosa.load(wav_train[0], sr=44100)\n",
    "y, sr"
   ]
  },
  {
   "cell_type": "code",
   "execution_count": 16,
   "metadata": {},
   "outputs": [
    {
     "data": {
      "text/plain": [
       "array([], shape=(6000, 0), dtype=float32)"
      ]
     },
     "execution_count": 16,
     "metadata": {},
     "output_type": "execute_result"
    }
   ],
   "source": [
    "spec_y = spectrogram(y, sr, stride_sec=2.0, window_sec=4.0, max_freq=1500, eps=0.001)\n",
    "spec_y"
   ]
  }
 ],
 "metadata": {
  "kernelspec": {
   "display_name": "tf_conda",
   "language": "python",
   "name": "python3"
  },
  "language_info": {
   "codemirror_mode": {
    "name": "ipython",
    "version": 3
   },
   "file_extension": ".py",
   "mimetype": "text/x-python",
   "name": "python",
   "nbconvert_exporter": "python",
   "pygments_lexer": "ipython3",
   "version": "3.10.13"
  }
 },
 "nbformat": 4,
 "nbformat_minor": 2
}
